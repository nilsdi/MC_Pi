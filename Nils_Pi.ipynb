{
 "cells": [
  {
   "cell_type": "markdown",
   "id": "34fcf4f8-9e39-4bb0-9ebe-7adf5377d312",
   "metadata": {},
   "source": [
    "## Second level heading\n",
    "\n",
    "This cell contains simple\n",
    "[markdown](https://daringfireball.net/projects/markdown/syntax), a simple language for writing text that can be automatically converted to other formats, e.g. HTML, LaTeX or any of a number of others.\n",
    "\n",
    "**Bold**, *italics*, **_combined_**, ~~strikethrough~~, `inline code`.\n",
    "\n",
    "* bullet points\n",
    "\n",
    "or\n",
    "\n",
    "1. numbered\n",
    "3. lists\n",
    "\n",
    "**Equations:**\n",
    "inline $e^{i\\pi} + 1 = 0$\n",
    "or on new line\n",
    "$$e^{i\\pi} + 1 = 0$$\n",
    "\n",
    "Images:\n",
    "\n",
    "![Jupyter logo](https://jupyter.org/assets/homepage/main-logo.svg)\n",
    "\n",
    "Links:\n",
    "[One of many markdown cheat-sheets](https://github.com/adam-p/markdown-here/wiki/Markdown-Cheatsheet#emphasis)"
   ]
  },
  {
   "cell_type": "markdown",
   "id": "3995998f",
   "metadata": {},
   "source": [
    "### imports "
   ]
  },
  {
   "cell_type": "code",
   "execution_count": 1,
   "id": "2149fa94-8e61-41bf-9497-d3864b039669",
   "metadata": {},
   "outputs": [],
   "source": [
    "import scipy.stats as sts\n"
   ]
  },
  {
   "cell_type": "markdown",
   "id": "a7607f03",
   "metadata": {},
   "source": [
    "#### MC for pi"
   ]
  },
  {
   "cell_type": "markdown",
   "id": "2de238e1",
   "metadata": {},
   "source": [
    "## Image to visualize the concept\n",
    "\n",
    "![Darts](https://raw.githubusercontent.com/coderefinery/jupyter/main/example/darts.svg)"
   ]
  },
  {
   "cell_type": "code",
   "execution_count": 3,
   "id": "06bc8681",
   "metadata": {},
   "outputs": [
    {
     "data": {
      "text/plain": [
       "array([0.620632  , 0.7404371 , 0.01672586, 0.57387539, 0.85236304,\n",
       "       0.37167799, 0.16410482, 0.98162311, 0.93191652, 0.14270063,\n",
       "       0.73182794, 0.83080488, 0.78328719, 0.71342182, 0.64341431,\n",
       "       0.08389188, 0.35994833, 0.82372837, 0.7736581 , 0.91773275,\n",
       "       0.30095624, 0.34039278, 0.77236726, 0.28952473, 0.2354843 ,\n",
       "       0.28588574, 0.1390689 , 0.57805858, 0.12979869, 0.55257203,\n",
       "       0.82831519, 0.579931  , 0.44343676, 0.84575612, 0.27202006,\n",
       "       0.56613419, 0.7199325 , 0.62817826, 0.84977645, 0.16241535,\n",
       "       0.84508505, 0.08229682, 0.49275949, 0.32901754, 0.56729596,\n",
       "       0.35112223, 0.38513676, 0.98374255, 0.25575878, 0.46744816,\n",
       "       0.23012173, 0.89079019, 0.31672904, 0.15764016, 0.79497294,\n",
       "       0.59776926, 0.74526358, 0.34419373, 0.4713094 , 0.57555486,\n",
       "       0.75148466, 0.39454061, 0.64809779, 0.53625383, 0.23693356,\n",
       "       0.73967964, 0.59392215, 0.44122318, 0.88602412, 0.39785611,\n",
       "       0.88370248, 0.09285177, 0.66973499, 0.68952266, 0.7511343 ,\n",
       "       0.906479  , 0.95444858, 0.24420905, 0.28679154, 0.36169797,\n",
       "       0.85287781, 0.95634458, 0.47778162, 0.40111241, 0.62736548,\n",
       "       0.06148017, 0.78417556, 0.96306497, 0.36289267, 0.67433215,\n",
       "       0.26883226, 0.67172985, 0.42575688, 0.86882585, 0.6314059 ,\n",
       "       0.37472457, 0.90023445, 0.27955671, 0.85551109, 0.78544966])"
      ]
     },
     "execution_count": 3,
     "metadata": {},
     "output_type": "execute_result"
    }
   ],
   "source": [
    "x = sts.uniform.rvs(0,1,100)\n",
    "y = "
   ]
  },
  {
   "cell_type": "code",
   "execution_count": null,
   "id": "06bc8681",
   "metadata": {},
   "outputs": [],
   "source": []
  }
 ],
 "metadata": {
  "kernelspec": {
   "display_name": "Python 3.9.12 ('base')",
   "language": "python",
   "name": "python3"
  },
  "language_info": {
   "codemirror_mode": {
    "name": "ipython",
    "version": 3
   },
   "file_extension": ".py",
   "mimetype": "text/x-python",
   "name": "python",
   "nbconvert_exporter": "python",
   "pygments_lexer": "ipython3",
   "version": "3.9.12"
  },
  "vscode": {
   "interpreter": {
    "hash": "9fac21e72c48f7c52766c8400b238ed12b6275f2bd1d19c0f794e1c79d61ab02"
   }
  }
 },
 "nbformat": 4,
 "nbformat_minor": 5
}
